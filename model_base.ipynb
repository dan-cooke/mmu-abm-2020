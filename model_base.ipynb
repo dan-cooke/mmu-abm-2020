{
 "cells": [
  {
   "cell_type": "code",
   "execution_count": 211,
   "metadata": {},
   "outputs": [],
   "source": [
    "import numpy, pandas, random"
   ]
  },
  {
   "cell_type": "code",
   "execution_count": 276,
   "metadata": {},
   "outputs": [
    {
     "name": "stdout",
     "output_type": "stream",
     "text": [
      "    Condition   Exposure\n",
      "0  Uninfected    0.27969\n",
      "1  Uninfected   0.932758\n",
      "2    Infected    0.14952\n",
      "3  Uninfected   0.576487\n",
      "4  Uninfected   0.760137\n",
      "5  Uninfected  0.0827125\n",
      "6  Uninfected   0.744862\n",
      "7  Uninfected   0.850914\n",
      "8  Uninfected   0.636484\n",
      "9  Uninfected   0.834907\n"
     ]
    }
   ],
   "source": [
    "Agents = pandas.DataFrame(index=range(0, Population),\n",
    "                        columns=['Condition', 'Exposure'])\n",
    "for i in Agents.index:\n",
    "    Agents.at[i, 'Condition'] = 'Uninfected'\n",
    "    Agents.at[i, 'Exposure'] = random.uniform(0,1)\n",
    "Agents.at[random.randrange(Population), 'Condition'] = 'Infected'\n",
    "print(Agents)"
   ]
  },
  {
   "cell_type": "code",
   "execution_count": 278,
   "metadata": {},
   "outputs": [
    {
     "name": "stdout",
     "output_type": "stream",
     "text": [
      "Agent 0 encountered:\n",
      "    Condition  Exposure\n",
      "4  Uninfected  0.760137\n",
      "Agent 1 encountered:\n",
      "    Condition   Exposure\n",
      "6  Uninfected   0.744862\n",
      "6  Uninfected   0.744862\n",
      "9  Uninfected   0.834907\n",
      "0  Uninfected    0.27969\n",
      "9  Uninfected   0.834907\n",
      "5  Uninfected  0.0827125\n",
      "9  Uninfected   0.834907\n"
     ]
    },
    {
     "ename": "ValueError",
     "evalue": "The truth value of a Series is ambiguous. Use a.empty, a.bool(), a.item(), a.any() or a.all().",
     "output_type": "error",
     "traceback": [
      "\u001b[0;31m---------------------------------------------------------------------------\u001b[0m",
      "\u001b[0;31mValueError\u001b[0m                                Traceback (most recent call last)",
      "\u001b[0;32m<ipython-input-278-c88061fed953>\u001b[0m in \u001b[0;36m<module>\u001b[0;34m\u001b[0m\n\u001b[1;32m     27\u001b[0m \u001b[0;34m\u001b[0m\u001b[0m\n\u001b[1;32m     28\u001b[0m     \u001b[0;32mfor\u001b[0m \u001b[0mindex\u001b[0m\u001b[0;34m,\u001b[0m \u001b[0mrow\u001b[0m \u001b[0;32min\u001b[0m \u001b[0mAgentsEncountered\u001b[0m\u001b[0;34m.\u001b[0m\u001b[0miterrows\u001b[0m\u001b[0;34m(\u001b[0m\u001b[0;34m)\u001b[0m\u001b[0;34m:\u001b[0m\u001b[0;34m\u001b[0m\u001b[0;34m\u001b[0m\u001b[0m\n\u001b[0;32m---> 29\u001b[0;31m         \u001b[0;32mif\u001b[0m \u001b[0mAgentsEncountered\u001b[0m\u001b[0;34m.\u001b[0m\u001b[0mat\u001b[0m\u001b[0;34m[\u001b[0m\u001b[0mindex\u001b[0m\u001b[0;34m,\u001b[0m \u001b[0;34m'Condition'\u001b[0m\u001b[0;34m]\u001b[0m \u001b[0;34m==\u001b[0m \u001b[0;34m'Infected'\u001b[0m\u001b[0;34m:\u001b[0m\u001b[0;34m\u001b[0m\u001b[0;34m\u001b[0m\u001b[0m\n\u001b[0m\u001b[1;32m     30\u001b[0m             \u001b[0mprint\u001b[0m\u001b[0;34m(\u001b[0m\u001b[0;34mf\"Agent {Agents.index[j]} encountered infected agent!\"\u001b[0m\u001b[0;34m)\u001b[0m\u001b[0;34m\u001b[0m\u001b[0;34m\u001b[0m\u001b[0m\n\u001b[1;32m     31\u001b[0m             \u001b[0mprint\u001b[0m\u001b[0;34m(\u001b[0m\u001b[0mAgentsEncountered\u001b[0m\u001b[0;34m.\u001b[0m\u001b[0mloc\u001b[0m\u001b[0;34m[\u001b[0m\u001b[0mindex\u001b[0m\u001b[0;34m]\u001b[0m\u001b[0;34m)\u001b[0m\u001b[0;34m\u001b[0m\u001b[0;34m\u001b[0m\u001b[0m\n",
      "\u001b[0;32m/usr/local/lib/python3.7/site-packages/pandas/core/generic.py\u001b[0m in \u001b[0;36m__nonzero__\u001b[0;34m(self)\u001b[0m\n\u001b[1;32m   1325\u001b[0m     \u001b[0;32mdef\u001b[0m \u001b[0m__nonzero__\u001b[0m\u001b[0;34m(\u001b[0m\u001b[0mself\u001b[0m\u001b[0;34m)\u001b[0m\u001b[0;34m:\u001b[0m\u001b[0;34m\u001b[0m\u001b[0;34m\u001b[0m\u001b[0m\n\u001b[1;32m   1326\u001b[0m         raise ValueError(\n\u001b[0;32m-> 1327\u001b[0;31m             \u001b[0;34mf\"The truth value of a {type(self).__name__} is ambiguous. \"\u001b[0m\u001b[0;34m\u001b[0m\u001b[0;34m\u001b[0m\u001b[0m\n\u001b[0m\u001b[1;32m   1328\u001b[0m             \u001b[0;34m\"Use a.empty, a.bool(), a.item(), a.any() or a.all().\"\u001b[0m\u001b[0;34m\u001b[0m\u001b[0;34m\u001b[0m\u001b[0m\n\u001b[1;32m   1329\u001b[0m         )\n",
      "\u001b[0;31mValueError\u001b[0m: The truth value of a Series is ambiguous. Use a.empty, a.bool(), a.item(), a.any() or a.all()."
     ]
    }
   ],
   "source": [
    "for j in range(0, Population):\n",
    "    # Extract exposure of random agent...\n",
    "    # ...higher values correlate with increased agent (social) interaction\n",
    "    ExposureLevel = Agents.at[j, 'Exposure']\n",
    "    \n",
    "    # Random selection of agents that could be encountered\n",
    "    RandomSelectionOfAgents = round(random.randrange(Population))\n",
    "\n",
    "    # Actual number of agents that will be encountered\n",
    "    EncounteredSelectionOfAgents = round(ExposureLevel*RandomSelectionOfAgents)\n",
    "    \n",
    "    # Duplicate agents data set without agent of focus 'j'\n",
    "    AgentsWithoutSubject = Agents.loc[Agents.index != j, :]\n",
    "\n",
    "    # Extract agents that have been encountered...\n",
    "    # ...multiple encounters are valid\n",
    "    AgentsEncountered = AgentsWithoutSubject.sample(\n",
    "        n=EncounteredSelectionOfAgents, \n",
    "        replace=True)\n",
    "    if not AgentsEncountered.empty:\n",
    "        print(f\"Agent {Agents.index[j]} encountered:\")\n",
    "        print(AgentsEncountered)\n",
    "    \n",
    "    # Generate infection status based on each of the agent interactions...\n",
    "    # ...our agent of focus comes into contact with\n",
    "    for index, row in AgentsEncountered.iterrows():\n",
    "        if AgentsEncountered.at[index, 'Condition'] == 'Infected':\n",
    "            print(f\"Agent {Agents.index[j]} encountered infected agent!\")\n",
    "            print(AgentsEncountered.loc[index])\n",
    "            # To-do: Insert decision generation on infection status HERE         \n",
    "            Agents.at[j, 'Condition'] = 'Infected'\n",
    "            print(Agents)\n",
    "    "
   ]
  },
  {
   "cell_type": "code",
   "execution_count": null,
   "metadata": {},
   "outputs": [],
   "source": []
  },
  {
   "cell_type": "code",
   "execution_count": null,
   "metadata": {},
   "outputs": [],
   "source": []
  }
 ],
 "metadata": {
  "kernelspec": {
   "display_name": "Python 3",
   "language": "python",
   "name": "python3"
  },
  "language_info": {
   "codemirror_mode": {
    "name": "ipython",
    "version": 3
   },
   "file_extension": ".py",
   "mimetype": "text/x-python",
   "name": "python",
   "nbconvert_exporter": "python",
   "pygments_lexer": "ipython3",
   "version": "3.7.4"
  }
 },
 "nbformat": 4,
 "nbformat_minor": 4
}
