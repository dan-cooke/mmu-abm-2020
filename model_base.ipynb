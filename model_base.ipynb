{
 "cells": [
  {
   "cell_type": "code",
   "execution_count": 191,
   "metadata": {},
   "outputs": [],
   "source": [
    "import numpy, pandas, random"
   ]
  },
  {
   "cell_type": "code",
   "execution_count": 192,
   "metadata": {},
   "outputs": [
    {
     "name": "stdout",
     "output_type": "stream",
     "text": [
      "    Condition  Exposure\n",
      "0  Uninfected  0.756948\n",
      "1  Uninfected  0.398722\n",
      "2    Infected  0.151183\n",
      "3  Uninfected  0.285024\n",
      "4  Uninfected  0.356646\n",
      "5  Uninfected  0.267681\n",
      "6  Uninfected  0.518499\n",
      "7  Uninfected  0.682756\n",
      "8  Uninfected  0.483451\n",
      "9  Uninfected  0.360649\n"
     ]
    }
   ],
   "source": [
    "Agents = pandas.DataFrame(index=range(0, Population),\n",
    "                        columns=['Condition', 'Exposure'])\n",
    "for i in Agents.index:\n",
    "    Agents.at[i, 'Condition'] = 'Uninfected'\n",
    "    Agents.at[i, 'Exposure'] = random.uniform(0,1)\n",
    "Agents.at[random.randrange(Population), 'Condition'] = 'Infected'\n",
    "print(Agents)"
   ]
  },
  {
   "cell_type": "code",
   "execution_count": 193,
   "metadata": {},
   "outputs": [
    {
     "name": "stdout",
     "output_type": "stream",
     "text": [
      "0.3606493079913691\n",
      "9\n"
     ]
    }
   ],
   "source": [
    "# Extract exposure of random agent...\n",
    "# ...higher values correlate with increased agent (social) interaction\n",
    "ExposureLevel = Agents.at[i, 'Exposure']\n",
    "print(ExposureLevel)\n",
    "print(i)"
   ]
  },
  {
   "cell_type": "code",
   "execution_count": 194,
   "metadata": {},
   "outputs": [
    {
     "name": "stdout",
     "output_type": "stream",
     "text": [
      "9\n",
      "3\n"
     ]
    }
   ],
   "source": [
    "# Random selection of agents that could be encountered\n",
    "RandomSelectionOfAgents = round(random.randrange(Population))\n",
    "print(RandomSelectionOfAgents)\n",
    "\n",
    "# Actual number of agents that will be encountered\n",
    "EncounteredSelectionOfAgents = round(ExposureLevel*RandomSelectionOfAgents)\n",
    "print(EncounteredSelectionOfAgents)"
   ]
  },
  {
   "cell_type": "code",
   "execution_count": 195,
   "metadata": {},
   "outputs": [
    {
     "name": "stdout",
     "output_type": "stream",
     "text": [
      "    Condition  Exposure\n",
      "7  Uninfected  0.682756\n",
      "5  Uninfected  0.267681\n",
      "2    Infected  0.151183\n"
     ]
    }
   ],
   "source": [
    "# Duplicate agents data set without agent of focus 'i'\n",
    "AgentsWithoutSubject = Agents.loc[Agents.index != i, :]\n",
    "\n",
    "# Extract agents that have been encountered...\n",
    "# ...multiple encounters are valid\n",
    "AgentsEncountered = AgentsWithoutSubject.sample(\n",
    "    n=EncounteredSelectionOfAgents, \n",
    "    replace=True)\n",
    "print(AgentsEncountered)"
   ]
  },
  {
   "cell_type": "code",
   "execution_count": 196,
   "metadata": {},
   "outputs": [
    {
     "name": "stdout",
     "output_type": "stream",
     "text": [
      "Agent 9 encountered infected agent!\n",
      "Condition    Infected\n",
      "Exposure     0.151183\n",
      "Name: 2, dtype: object\n",
      "    Condition  Exposure\n",
      "0  Uninfected  0.756948\n",
      "1  Uninfected  0.398722\n",
      "2    Infected  0.151183\n",
      "3  Uninfected  0.285024\n",
      "4  Uninfected  0.356646\n",
      "5  Uninfected  0.267681\n",
      "6  Uninfected  0.518499\n",
      "7  Uninfected  0.682756\n",
      "8  Uninfected  0.483451\n",
      "9    Infected  0.360649\n"
     ]
    }
   ],
   "source": [
    "# Generate infection status based on each of the agent interactions...\n",
    "# ...our agent of focus comes into contact with\n",
    "for index, row in AgentsEncountered.iterrows():\n",
    "    if AgentsEncountered.at[index, 'Condition'] == 'Infected':\n",
    "        print(f\"Agent {Agents.index[i]} encountered infected agent!\")\n",
    "        print(AgentsEncountered.loc[index])\n",
    "        # To-do: Insert decision generation on infection status HERE         \n",
    "        Agents.at[i, 'Condition'] = 'Infected'\n",
    "        print(Agents)\n",
    "    "
   ]
  },
  {
   "cell_type": "code",
   "execution_count": 197,
   "metadata": {},
   "outputs": [
    {
     "name": "stdout",
     "output_type": "stream",
     "text": [
      "Condition    Infected\n",
      "Exposure     0.151183\n",
      "Name: 2, dtype: object\n"
     ]
    }
   ],
   "source": [
    "    print(AgentsEncountered.loc[index])"
   ]
  },
  {
   "cell_type": "code",
   "execution_count": null,
   "metadata": {},
   "outputs": [],
   "source": []
  },
  {
   "cell_type": "code",
   "execution_count": null,
   "metadata": {},
   "outputs": [],
   "source": []
  }
 ],
 "metadata": {
  "kernelspec": {
   "display_name": "Python 3",
   "language": "python",
   "name": "python3"
  },
  "language_info": {
   "codemirror_mode": {
    "name": "ipython",
    "version": 3
   },
   "file_extension": ".py",
   "mimetype": "text/x-python",
   "name": "python",
   "nbconvert_exporter": "python",
   "pygments_lexer": "ipython3",
   "version": "3.7.4"
  }
 },
 "nbformat": 4,
 "nbformat_minor": 4
}
