{
 "cells": [
  {
   "cell_type": "code",
   "execution_count": 31,
   "metadata": {},
   "outputs": [],
   "source": [
    "import numpy, pandas, random"
   ]
  },
  {
   "cell_type": "code",
   "execution_count": 34,
   "metadata": {},
   "outputs": [
    {
     "name": "stdout",
     "output_type": "stream",
     "text": [
      "  Condition   Exposure\n",
      "0         S   0.723382\n",
      "1         S   0.218638\n",
      "2         S   0.629216\n",
      "3         S   0.849224\n",
      "4         S    0.41412\n",
      "5         S   0.726527\n",
      "6         S    0.64756\n",
      "7         E   0.946307\n",
      "8         S   0.619248\n",
      "9         S  0.0170784\n"
     ]
    }
   ],
   "source": [
    "data = pandas.DataFrame(index=range(0, Population),\n",
    "                        columns=['Condition', 'Exposure'])\n",
    "for i in data.index:\n",
    "    data.at[i, 'Condition'] = 'Uninfected'\n",
    "    data.at[i, 'Exposure'] = random.uniform(0,1)\n",
    "data.at[random.randrange(Population), 'Condition'] = 'Infected'\n",
    "print(data)"
   ]
  },
  {
   "cell_type": "code",
   "execution_count": null,
   "metadata": {},
   "outputs": [],
   "source": []
  },
  {
   "cell_type": "code",
   "execution_count": null,
   "metadata": {},
   "outputs": [],
   "source": []
  }
 ],
 "metadata": {
  "kernelspec": {
   "display_name": "Python 3",
   "language": "python",
   "name": "python3"
  },
  "language_info": {
   "codemirror_mode": {
    "name": "ipython",
    "version": 3
   },
   "file_extension": ".py",
   "mimetype": "text/x-python",
   "name": "python",
   "nbconvert_exporter": "python",
   "pygments_lexer": "ipython3",
   "version": "3.7.4"
  }
 },
 "nbformat": 4,
 "nbformat_minor": 4
}
